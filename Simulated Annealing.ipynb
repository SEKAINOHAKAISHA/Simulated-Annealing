{
 "cells": [
  {
   "cell_type": "code",
   "execution_count": 2,
   "id": "682b001f-ccee-4d4e-bd4d-89e616f6fd32",
   "metadata": {},
   "outputs": [],
   "source": [
    "#Simulated Annealing\n",
    "#demonstrate simulated annealing using coin toss\n",
    "from random import uniform\n",
    "def simulated_annealing(p1 : float, p2 : float):\n",
    "    #this is used to decrease the higher probability\n",
    "    temp = uniform(0.001,0.05)\n",
    "    #diff is energy function\n",
    "    diff = abs(p1 - p2)\n",
    "    while diff > temp:\n",
    "        p1 = p1 - temp\n",
    "        p2 = p2 + temp\n",
    "        temp = uniform(0.001,temp)\n",
    "        diff = abs(p1 - p2)\n",
    "    return p1,p2\n",
    "    "
   ]
  },
  {
   "cell_type": "code",
   "execution_count": 4,
   "id": "cb50f74b",
   "metadata": {},
   "outputs": [
    {
     "name": "stdout",
     "output_type": "stream",
     "text": [
      "Initial probability of heads : 0.9\n",
      "Initial probability of tails : 0.1\n",
      "Final probability of heads : 0.5\n",
      "Final probability of tails : 0.5\n"
     ]
    }
   ],
   "source": [
    "\n",
    "if __name__ == \"__main__\":\n",
    "    while True:\n",
    "        p1 = float(input('Enter probability of occurence of head : '))\n",
    "        p2 = 1 - p1 #probability of tails\n",
    "        if p1 > 0.5 and p1 <= 1:\n",
    "            break\n",
    "        print('Enter probability between (0.5,1]')\n",
    "    print(f'Initial probability of heads : {round(p1,4)}')\n",
    "    print(f'Initial probability of tails : {round(p2,4)}')\n",
    "    new_p1, new_p2 = simulated_annealing(p1,p2)\n",
    "    print(f'Final probability of heads : {round(new_p1,2)}')\n",
    "    print(f'Final probability of tails : {round(new_p2,2)}')"
   ]
  },
  {
   "cell_type": "code",
   "execution_count": null,
   "id": "cfb8a445-babf-4bb5-8b8c-fc64c1cf45eb",
   "metadata": {},
   "outputs": [],
   "source": []
  }
 ],
 "metadata": {
  "kernelspec": {
   "display_name": "Python 3 (ipykernel)",
   "language": "python",
   "name": "python3"
  },
  "language_info": {
   "codemirror_mode": {
    "name": "ipython",
    "version": 3
   },
   "file_extension": ".py",
   "mimetype": "text/x-python",
   "name": "python",
   "nbconvert_exporter": "python",
   "pygments_lexer": "ipython3",
   "version": "3.10.13"
  }
 },
 "nbformat": 4,
 "nbformat_minor": 5
}
